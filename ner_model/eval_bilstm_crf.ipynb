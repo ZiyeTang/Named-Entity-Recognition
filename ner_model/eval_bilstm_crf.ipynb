{
  "cells": [
    {
      "cell_type": "code",
      "execution_count": 1,
      "metadata": {
        "id": "haskdpB8l0PV"
      },
      "outputs": [],
      "source": [
        "import torch\n",
        "from torch import nn\n",
        "from torch.nn.utils.rnn import pad_sequence\n",
        "import random\n",
        "from bilstm_crf import BiLSTM_CRF\n",
        "from load_data_crf import num_words, num_tags, words, tags, word2idx, tag2idx, train_X, train_y, test_X, test_y"
      ]
    },
    {
      "cell_type": "code",
      "execution_count": 2,
      "metadata": {},
      "outputs": [
        {
          "name": "stderr",
          "output_type": "stream",
          "text": [
            "C:\\Users\\ziyet\\AppData\\Local\\Packages\\PythonSoftwareFoundation.Python.3.10_qbz5n2kfra8p0\\LocalCache\\local-packages\\Python310\\site-packages\\torch\\nn\\modules\\rnn.py:67: UserWarning: dropout option adds dropout after all but last recurrent layer, so non-zero dropout expects num_layers greater than 1, but got dropout=0.1 and num_layers=1\n",
            "  warnings.warn(\"dropout option adds dropout after all but last \"\n"
          ]
        },
        {
          "data": {
            "text/plain": [
              "<All keys matched successfully>"
            ]
          },
          "execution_count": 2,
          "metadata": {},
          "output_type": "execute_result"
        }
      ],
      "source": [
        "new_model = BiLSTM_CRF(num_words, tag2idx, embedding_dim=50, hidden_dim=200)\n",
        "new_model.load_state_dict(torch.load(\"./weights/bilstm_crf.pth\", map_location='cpu'))"
      ]
    },
    {
      "cell_type": "code",
      "execution_count": 3,
      "metadata": {},
      "outputs": [
        {
          "name": "stdout",
          "output_type": "stream",
          "text": [
            "999\n",
            "1999\n",
            "2999\n",
            "3999\n",
            "4999\n",
            "5999\n",
            "6999\n",
            "7999\n",
            "8999\n",
            "Precision:  tensor(0.8039)\n",
            "Recall:  tensor(0.9244)\n",
            "F1 Score:  tensor(0.8599)\n"
          ]
        }
      ],
      "source": [
        "\n",
        "new_model.eval()\n",
        "TP = 0\n",
        "TN = 0\n",
        "FP = 0\n",
        "FN = 0\n",
        "for i in range(len(test_X)):\n",
        "    cur_X = torch.tensor(test_X[i:i+1], dtype = torch.long)\n",
        "    cur_y = torch.tensor(test_y[i], dtype = torch.long)\n",
        "\n",
        "    _, pred = new_model(cur_X)\n",
        "    pred = torch.tensor(pred[0])\n",
        "    TP += torch.sum((pred!=tag2idx['O']) * (pred == cur_y))\n",
        "    TN += torch.sum((pred==tag2idx['O']) * (pred == cur_y))\n",
        "    FP += torch.sum((pred!=tag2idx['O']) * (pred != cur_y))\n",
        "    FN += torch.sum((pred==tag2idx['O']) * (pred != cur_y))\n",
        "    \n",
        "    if (i+1)%1000 == 0:\n",
        "        print(i)\n",
        "\n",
        "prec = TP/(TP+FP)\n",
        "recall = TP/(TP+FN)\n",
        "f1 = prec*recall/(prec+recall)\n",
        "print(\"Precision: \",prec)\n",
        "print(\"Recall: \", recall)\n",
        "print(\"F1 Score: \", f1*2)"
      ]
    },
    {
      "cell_type": "code",
      "execution_count": 4,
      "metadata": {
        "colab": {
          "base_uri": "https://localhost:8080/"
        },
        "id": "H7dhRbXnNZjn",
        "outputId": "1a527e1a-d7a1-4d7f-e40d-25a95a5bab19"
      },
      "outputs": [
        {
          "name": "stdout",
          "output_type": "stream",
          "text": [
            "The famine killed as many as 10 million people in what was then Soviet Ukraine .  \n",
            "\n",
            "labels:  O O O O O O O O O O O O O O B-geo O  \n",
            "\n",
            "predictions: O O O O O O O O O O O O O O B-geo O  \n",
            "\n",
            "\n",
            "Many analysts say the famine was not from natural causes , but instead was the result of government policies under Soviet dictator Josef Stalin .  \n",
            "\n",
            "labels:  O O O O O O O O O O O O O O O O O O O O O O B-per I-per O  \n",
            "\n",
            "predictions: O O O O O O O O O O O O O O O O O O O O O O B-per I-per O  \n",
            "\n",
            "\n",
            "Ukrainian President Viktor Yushchenko supported the bill .  \n",
            "\n",
            "labels:  B-gpe B-per I-per I-per O O O O  \n",
            "\n",
            "predictions: B-gpe B-per I-per I-per O O O O  \n",
            "\n",
            "\n",
            "Most have been released unharmed , often after a payment of ransom .  \n",
            "\n",
            "labels:  O O O O O O O O O O O O O  \n",
            "\n",
            "predictions: O O O O O O O O O O O O O  \n",
            "\n",
            "\n",
            "On Saturday , he spoke in the capital , Kiev , to mark the 73rd anniversary of the tragedy , known in Ukraine as the Holodomor .  \n",
            "\n",
            "labels:  O B-tim O O O O O O O B-per O O O O O O O O O O O O B-geo O O B-geo O  \n",
            "\n",
            "predictions: O B-tim O O O O O O O B-org O O O O B-org O O O O O O O B-geo O O B-tim O  \n",
            "\n",
            "\n",
            "China denies it is failing to keep the Olympic Games and politics separate after a Communist party official criticized the Dalai Lama at a torch relay ceremony in Tibet .  \n",
            "\n",
            "labels:  B-geo O O O O O O O O O O O O O O O O O O O B-geo I-geo O O O O O O B-geo O  \n",
            "\n",
            "predictions: B-geo O O O O O O O B-eve I-eve O O O O O O O O O O B-per I-per O O O O O O B-geo O  \n",
            "\n",
            "\n",
            "The Chinese foreign ministry Thursday said the official 's comments did not contradict China 's opposition to politicizing the Olympics .  \n",
            "\n",
            "labels:  O B-gpe O O B-tim O O O O O O O O B-geo O O O O O O O  \n",
            "\n",
            "predictions: O B-gpe O O B-tim O O O O O O O O B-geo O O O O O B-geo O  \n",
            "\n",
            "\n",
            "The ministry said the comments were meant to create a stable environment for the Olympics .  \n",
            "\n",
            "labels:  O O O O O O O O O O O O O O O O  \n",
            "\n",
            "predictions: O O O O O O O O O O O O O O B-geo O  \n",
            "\n",
            "\n",
            "Earlier Thursday , the International Olympic Committee urged the Beijing Organizing Committee for the Olympic games to make sure such situations do not happen again .  \n",
            "\n",
            "labels:  O B-tim O O B-org O B-org O O B-geo I-geo B-org O O O O O O O O O O O O O O  \n",
            "\n",
            "predictions: O B-tim O O O O B-org O O B-org I-org I-org O O O O O O O O O O O O O O  \n",
            "\n",
            "\n",
            "The IOC said it regrets that the political statements were made during the closing torch relay ceremony Saturday in Tibet 's capital , Lhasa .  \n",
            "\n",
            "labels:  O B-org O O O O O O O O O O O O O O O B-tim O B-geo O O O B-org O  \n",
            "\n",
            "predictions: O B-org O O O O O O O O O O O O O O O B-tim O B-geo O O O B-geo O  \n",
            "\n",
            "\n"
          ]
        }
      ],
      "source": [
        "new_model.eval()\n",
        "for i in range(7990, 8000):\n",
        "    cur_X = torch.tensor(test_X[i:i+1], dtype = torch.long)\n",
        "    cur_y = torch.tensor(test_y[i:i+1], dtype = torch.long)\n",
        "\n",
        "    _, pred = new_model(cur_X)\n",
        "    pred_tag = \"\"\n",
        "    t_tag = \"\"\n",
        "    sentence = \"\"\n",
        "    for j in range(0, len(cur_X[0])):\n",
        "        sentence += words[cur_X[0][j]]+\" \"\n",
        "        t_tag += tags[cur_y[0][j]] + \" \"\n",
        "        pred_tag += tags[pred[0][j]] + \" \"\n",
        "    \n",
        "    print(sentence,'\\n')\n",
        "    print(\"labels: \", t_tag,'\\n')\n",
        "    print(\"predictions:\", pred_tag,'\\n\\n')"
      ]
    },
    {
      "cell_type": "code",
      "execution_count": 5,
      "metadata": {},
      "outputs": [
        {
          "name": "stdout",
          "output_type": "stream",
          "text": [
            "tensor([[-0.0460,  0.3587,  1.2541,  0.1426],\n",
            "        [ 0.1849, -0.1925,  0.7593,  0.4366],\n",
            "        [ 1.8217,  0.6672, -1.4221, -2.5612]])\n",
            "tensor(0.7593)\n",
            "tensor(0.7593)\n",
            "tensor([[0.7593, 0.7593, 0.7593, 0.7593]])\n",
            "tensor(3.0543)\n",
            "tensor(3.0543)\n"
          ]
        }
      ],
      "source": [
        "import torch\n",
        "vec = torch.randn((3,4))\n",
        "print(vec)\n",
        "i=1\n",
        "max_score = vec[i, torch.argmax(vec[i])]\n",
        "print(max_score)\n",
        "print(torch.max(vec[i]))\n",
        "max_score_broadcast = max_score.view(1, -1).expand(1, vec.size()[1])\n",
        "print(max_score_broadcast)\n",
        "print(max_score + torch.log(torch.sum(torch.exp(vec - max_score_broadcast))))\n",
        "print(max_score + torch.log(torch.sum(torch.exp(vec - max_score))))"
      ]
    }
  ],
  "metadata": {
    "accelerator": "GPU",
    "colab": {
      "provenance": []
    },
    "kernelspec": {
      "display_name": "Python 3",
      "name": "python3"
    },
    "language_info": {
      "codemirror_mode": {
        "name": "ipython",
        "version": 3
      },
      "file_extension": ".py",
      "mimetype": "text/x-python",
      "name": "python",
      "nbconvert_exporter": "python",
      "pygments_lexer": "ipython3",
      "version": "3.10.11"
    }
  },
  "nbformat": 4,
  "nbformat_minor": 0
}
